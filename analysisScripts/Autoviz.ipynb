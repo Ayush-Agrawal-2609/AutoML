{
 "cells": [
  {
   "cell_type": "code",
   "execution_count": 16,
   "metadata": {
    "scrolled": true
   },
   "outputs": [
    {
     "name": "stdout",
     "output_type": "stream",
     "text": [
      "Enter Dataset Name: boston\n",
      "Enter Target Column (Y): medv\n"
     ]
    }
   ],
   "source": [
    "datasetName = input('Enter Dataset Name: ')\n",
    "targetY = input('Enter Target Column (Y): ')"
   ]
  },
  {
   "cell_type": "code",
   "execution_count": 18,
   "metadata": {},
   "outputs": [],
   "source": [
    "import pandas as pd\n",
    "import os\n",
    "from autoviz.AutoViz_Class import AutoViz_Class\n",
    "\n",
    "df = pd.read_csv(f'datasets/{datasetName}.csv')\n",
    "os.mkdir(f'datasets/{datasetName}') "
   ]
  },
  {
   "cell_type": "code",
   "execution_count": 19,
   "metadata": {},
   "outputs": [],
   "source": [
    "Av = AutoViz_Class()\n",
    "sep = ','\n",
    "target = targetY"
   ]
  },
  {
   "cell_type": "code",
   "execution_count": 20,
   "metadata": {},
   "outputs": [
    {
     "name": "stdout",
     "output_type": "stream",
     "text": [
      "Shape of your Data Set: (506, 15)\n",
      "Classifying variables in data set...\n",
      "    14 Predictors classified...\n",
      "        This does not include the Target column(s)\n",
      "    1 variables removed since they were ID or low-information variables\n",
      "Number of All Scatter Plots = 36\n",
      "Could not draw Pivot Charts against Dependent Variable\n",
      "All Plots done\n",
      "Time to run AutoViz (in seconds) = 8.831\n"
     ]
    }
   ],
   "source": [
    "dft = Av.AutoViz(\n",
    "    '',\n",
    "    sep,\n",
    "    target,\n",
    "    df,\n",
    "    header=0,\n",
    "    verbose=0,\n",
    "    lowess=False,\n",
    "    chart_format=\"svg\",\n",
    "    max_rows_analyzed=150000,\n",
    "    max_cols_analyzed=30,\n",
    ")"
   ]
  },
  {
   "cell_type": "code",
   "execution_count": 15,
   "metadata": {},
   "outputs": [
    {
     "name": "stdout",
     "output_type": "stream",
     "text": [
      "\n",
      "\n",
      "\n",
      "\n",
      "\n",
      "\n"
     ]
    }
   ],
   "source": [
    "PltType = [Av.scatter_plot, Av.pair_scatter, Av.dist_plot, Av.pivot_plot, Av.violin_plot, Av.heat_map, Av.bar_plot, Av.date_plot]\n",
    "\n",
    "for plottypes in PltType:\n",
    "    i=0\n",
    "    name = plottypes['name']\n",
    "    plottypes['loc']=[]\n",
    "    for plotlist in plottypes['plots']:\n",
    "        j=0\n",
    "        for plot in plotlist:\n",
    "            f = open(f'./datasets/{datasetName}/{name}-{i+1}-{j+1}.svg', 'w', encoding=\"utf-8\")\n",
    "            f.write(plot)\n",
    "            f.close()\n",
    "            plottypes['loc'].append(f'{name}-{i+1}-{j+1}.svg')\n",
    "            j+=1\n",
    "        print('')\n",
    "        i+=1"
   ]
  },
  {
   "cell_type": "code",
   "execution_count": 9,
   "metadata": {},
   "outputs": [
    {
     "name": "stdout",
     "output_type": "stream",
     "text": [
      "name: scatter\n",
      "heading: Scatter Plot of each Continuous Variable against Target Variable\n",
      "subheading: []\n",
      "desc: []\n",
      "loc: ['scatter-1-1.svg']\n",
      "\n",
      "\n",
      "name: pair-scatter\n",
      "heading: Pairwise Scatter Plot of each Continuous Variable against other Continuous Variables\n",
      "subheading: []\n",
      "desc: []\n",
      "loc: []\n",
      "\n",
      "\n",
      "name: distribution\n",
      "heading: Distribution Plot of Target Variable\n",
      "subheading: []\n",
      "desc: []\n",
      "loc: ['distribution-1-1.svg', 'distribution-1-2.svg']\n",
      "\n",
      "\n",
      "name: pivot\n",
      "heading: Pivot Plots of all Continuous Variable\n",
      "subheading: []\n",
      "desc: []\n",
      "loc: []\n",
      "\n",
      "\n",
      "name: violin\n",
      "heading: Violin Plots of all Continuous Variable\n",
      "subheading: []\n",
      "desc: []\n",
      "loc: ['violin-1-1.svg']\n",
      "\n",
      "\n",
      "name: heatmap\n",
      "heading: Heatmap of all Continuous Variables for target Variable\n",
      "subheading: []\n",
      "desc: []\n",
      "loc: []\n",
      "\n",
      "\n",
      "name: bar\n",
      "heading: Bar Plots of Average of each Continuous Variable by Target Variable\n",
      "subheading: []\n",
      "desc: []\n",
      "loc: []\n",
      "\n",
      "\n",
      "name: time-series\n",
      "heading: Time Series Plots of Two Continuous Variables against a Date/Time Variable\n",
      "subheading: []\n",
      "desc: []\n",
      "loc: []\n",
      "\n",
      "\n"
     ]
    }
   ],
   "source": [
    "def displayPlotData():\n",
    "    for plottypes in PltType:\n",
    "        for key, value in plottypes.items():\n",
    "            if key != 'plots' :\n",
    "                print(f'{key}: {value}')\n",
    "        print('\\n')\n",
    "\n",
    "displayPlotData()"
   ]
  }
 ],
 "metadata": {
  "kernelspec": {
   "display_name": "Python 3.7.6 64-bit (conda)",
   "language": "python",
   "name": "python37664bitconda63ee57d7e6f643f898f423a7cf523501"
  },
  "language_info": {
   "codemirror_mode": {
    "name": "ipython",
    "version": 3
   },
   "file_extension": ".py",
   "mimetype": "text/x-python",
   "name": "python",
   "nbconvert_exporter": "python",
   "pygments_lexer": "ipython3",
   "version": "3.7.6"
  }
 },
 "nbformat": 4,
 "nbformat_minor": 2
}
