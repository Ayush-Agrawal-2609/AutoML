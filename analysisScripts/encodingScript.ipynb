{
 "cells": [
  {
   "cell_type": "code",
   "execution_count": null,
   "metadata": {},
   "outputs": [],
   "source": [
    "import pandas as pd\n",
    "from sklearn.preprocessing import LabelEncoder"
   ]
  },
  {
   "cell_type": "code",
   "execution_count": null,
   "metadata": {},
   "outputs": [],
   "source": [
    "df = pd.read_csv(f'./Cars.csv').dropna()\n",
    "print(df.shape)\n",
    "df.head()"
   ]
  },
  {
   "cell_type": "code",
   "execution_count": null,
   "metadata": {},
   "outputs": [],
   "source": [
    "from sklearn.preprocessing import LabelEncoder\n",
    "\n",
    "def encodeCategoricalColumns(df, categories):\n",
    "    d = {}\n",
    "    for col in categories:\n",
    "        le = LabelEncoder()\n",
    "        df[col] = le.fit_transform(df[col])\n",
    "        d[col] = le\n",
    "        \n",
    "    return d\n",
    "\n",
    "def reEncodeCategoricalColumns(df, categories, encoders):\n",
    "    for col in categories:\n",
    "        df[col] = encoders[col].transform(df[col])\n",
    "\n",
    "def decodeCategoricalColumns(df, categories, encoders):\n",
    "    for col in categories:\n",
    "        print(df[col].name, encoders[col].classes_)\n",
    "        df[col] = encoders[col].inverse_transform(df[col])\n",
    "        \n",
    "def printEncoders(encoders):\n",
    "    for key, val in encoders.items():\n",
    "        print(key, val.classes_) "
   ]
  },
  {
   "cell_type": "code",
   "execution_count": null,
   "metadata": {},
   "outputs": [],
   "source": [
    "encoders = encodeCategoricalColumns(df, categorical)\n",
    "df.head()"
   ]
  },
  {
   "cell_type": "code",
   "execution_count": null,
   "metadata": {},
   "outputs": [],
   "source": [
    "for key, val in encoders.items():\n",
    "    print(key, val.classes_) "
   ]
  },
  {
   "cell_type": "code",
   "execution_count": null,
   "metadata": {},
   "outputs": [],
   "source": [
    "decodeCategoricalColumns(test, categorical, encoders)\n",
    "test.head()"
   ]
  },
  {
   "cell_type": "code",
   "execution_count": null,
   "metadata": {},
   "outputs": [],
   "source": [
    "encoders"
   ]
  }
 ],
 "metadata": {
  "kernelspec": {
   "display_name": "Python 3.7.6 64-bit (conda) [automl]",
   "language": "python",
   "name": "python37664bitconda63ee57d7e6f643f898f423a7cf523501"
  },
  "language_info": {
   "codemirror_mode": {
    "name": "ipython",
    "version": 3
   },
   "file_extension": ".py",
   "mimetype": "text/x-python",
   "name": "python",
   "nbconvert_exporter": "python",
   "pygments_lexer": "ipython3",
   "version": "3.7.6"
  }
 },
 "nbformat": 4,
 "nbformat_minor": 2
}
