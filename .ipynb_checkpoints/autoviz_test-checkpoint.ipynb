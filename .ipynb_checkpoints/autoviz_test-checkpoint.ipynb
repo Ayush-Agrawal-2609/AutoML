{
 "cells": [
  {
   "cell_type": "code",
   "execution_count": null,
   "metadata": {},
   "outputs": [],
   "source": [
    "import pandas as pd\n",
    "from autoviz.AutoViz_Class import AutoViz_Class\n",
    "\n",
    "datasetName = input('Enter Dataset Name: ')\n",
    "targetY = input('Enter Target Column (Y): ')\n",
    "\n",
    "df = pd.read_csv(f'datasets/{datasetName}.csv')\n",
    "os.mkdir(f'datasets/{datasetName}') "
   ]
  },
  {
   "cell_type": "code",
   "execution_count": null,
   "metadata": {},
   "outputs": [],
   "source": [
    "Av = AutoViz_Class()\n",
    "sep = ' '\n",
    "target = targetY"
   ]
  },
  {
   "cell_type": "code",
   "execution_count": null,
   "metadata": {},
   "outputs": [],
   "source": [
    "dft = Av.AutoViz(\n",
    "    '',\n",
    "    sep,\n",
    "    target,\n",
    "    df,\n",
    "    header=0,\n",
    "    verbose=2,\n",
    "    lowess=False,\n",
    "    chart_format=\"svg\",\n",
    "    max_rows_analyzed=150000,\n",
    "    max_cols_analyzed=30,\n",
    ")"
   ]
  },
  {
   "cell_type": "code",
   "execution_count": null,
   "metadata": {},
   "outputs": [],
   "source": [
    "Av.heat_map"
   ]
  },
  {
   "cell_type": "code",
   "execution_count": null,
   "metadata": {},
   "outputs": [],
   "source": [
    "Av.overall"
   ]
  },
  {
   "cell_type": "code",
   "execution_count": null,
   "metadata": {},
   "outputs": [],
   "source": [
    "PltType = [Av.scatter_plot, Av.pair_scatter, Av.dist_plot, Av.pivot_plot, Av.violin_plot, Av.heat_map, Av.bar_plot, Av.date_plot]\n",
    "\n",
    "for plottypes in PltType:\n",
    "    i=0\n",
    "    name = plottypes['name']\n",
    "    plottypes['loc']=[]\n",
    "    for plotlist in plottypes['plots']:\n",
    "        j=0\n",
    "        for plot in plotlist:\n",
    "            f = open(f'./datasets/{datasetName}/{name}-{i+1}-{j+1}.svg', 'w', encoding=\"utf-8\")\n",
    "            f.write(plot)\n",
    "            f.close()\n",
    "            plottypes['loc'].append(f'{name}-{i+1}-{j+1}.svg')\n",
    "            j+=1\n",
    "        print('')\n",
    "        i+=1"
   ]
  },
  {
   "cell_type": "code",
   "execution_count": null,
   "metadata": {},
   "outputs": [],
   "source": [
    "def displayPlotData():\n",
    "    for plottypes in PltType:\n",
    "        for key, value in plottypes.items():\n",
    "            if key != 'plots' :\n",
    "                print(f'{key}: {value}')\n",
    "        print('\\n')\n",
    "\n",
    "displayPlotData()"
   ]
  },
  {
   "cell_type": "code",
   "execution_count": null,
   "metadata": {},
   "outputs": [],
   "source": [
    "#contents[0][0]"
   ]
  },
  {
   "cell_type": "code",
   "execution_count": null,
   "metadata": {},
   "outputs": [],
   "source": [
    "#f = open('plot.svg', 'w')\n",
    "#f.write(contents)\n",
    "#f.close()"
   ]
  },
  {
   "cell_type": "code",
   "execution_count": null,
   "metadata": {},
   "outputs": [],
   "source": []
  },
  {
   "cell_type": "code",
   "execution_count": null,
   "metadata": {},
   "outputs": [],
   "source": []
  }
 ],
 "metadata": {
  "kernelspec": {
   "display_name": "Python 3.7.6 64-bit (conda)",
   "language": "python",
   "name": "python37664bitconda63ee57d7e6f643f898f423a7cf523501"
  },
  "language_info": {
   "codemirror_mode": {
    "name": "ipython",
    "version": 3
   },
   "file_extension": ".py",
   "mimetype": "text/x-python",
   "name": "python",
   "nbconvert_exporter": "python",
   "pygments_lexer": "ipython3",
   "version": "3.7.6"
  }
 },
 "nbformat": 4,
 "nbformat_minor": 2
}
